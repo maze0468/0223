{
 "cells": [
  {
   "cell_type": "code",
   "execution_count": 1,
   "id": "d636ff44",
   "metadata": {},
   "outputs": [],
   "source": [
    "#util.ipynb\n",
    "INCH = 2.54\n",
    "\n",
    "def calcSum():\n",
    "    sum = 0\n",
    "    for num in range(1, 101):\n",
    "        sum += num\n",
    "    return sum"
   ]
  }
 ],
 "metadata": {
  "kernelspec": {
   "display_name": "Python 3 (ipykernel)",
   "language": "python",
   "name": "python3"
  },
  "language_info": {
   "codemirror_mode": {
    "name": "ipython",
    "version": 3
   },
   "file_extension": ".py",
   "mimetype": "text/x-python",
   "name": "python",
   "nbconvert_exporter": "python",
   "pygments_lexer": "ipython3",
   "version": "3.10.6"
  }
 },
 "nbformat": 4,
 "nbformat_minor": 5
}
