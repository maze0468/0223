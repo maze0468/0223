{
 "cells": [
  {
   "cell_type": "code",
   "execution_count": 2,
   "id": "addc9c9c",
   "metadata": {},
   "outputs": [
    {
     "data": {
      "text/plain": [
       "['__add__',\n",
       " '__class__',\n",
       " '__class_getitem__',\n",
       " '__contains__',\n",
       " '__delattr__',\n",
       " '__delitem__',\n",
       " '__dir__',\n",
       " '__doc__',\n",
       " '__eq__',\n",
       " '__format__',\n",
       " '__ge__',\n",
       " '__getattribute__',\n",
       " '__getitem__',\n",
       " '__gt__',\n",
       " '__hash__',\n",
       " '__iadd__',\n",
       " '__imul__',\n",
       " '__init__',\n",
       " '__init_subclass__',\n",
       " '__iter__',\n",
       " '__le__',\n",
       " '__len__',\n",
       " '__lt__',\n",
       " '__mul__',\n",
       " '__ne__',\n",
       " '__new__',\n",
       " '__reduce__',\n",
       " '__reduce_ex__',\n",
       " '__repr__',\n",
       " '__reversed__',\n",
       " '__rmul__',\n",
       " '__setattr__',\n",
       " '__setitem__',\n",
       " '__sizeof__',\n",
       " '__str__',\n",
       " '__subclasshook__',\n",
       " 'append',\n",
       " 'clear',\n",
       " 'copy',\n",
       " 'count',\n",
       " 'extend',\n",
       " 'index',\n",
       " 'insert',\n",
       " 'pop',\n",
       " 'remove',\n",
       " 'reverse',\n",
       " 'sort']"
      ]
     },
     "execution_count": 2,
     "metadata": {},
     "output_type": "execute_result"
    }
   ],
   "source": [
    "list_ = ['한지민', 25, 78, 34]\n",
    "dir(list_)"
   ]
  },
  {
   "cell_type": "code",
   "execution_count": 5,
   "id": "b66b0c71",
   "metadata": {},
   "outputs": [],
   "source": [
    "tot = list_[2] + list_[3] + list_[4]\n",
    "avg = tot / 3.\n",
    "grade = None\n",
    "if 90 <= avg <= 100 : grade = 'A'\n",
    "elif 80 <= avg < 90 : grade = 'B'\n",
    "elif 70 <= avg < 80 : grade = 'C'\n",
    "elif 60 <= avg < 70 : grade = 'D'\n",
    "else : grade = 'F'\n",
    "list_.append(tot)\n",
    "list_.append(avg)\n",
    "list_.append(grade)"
   ]
  },
  {
   "cell_type": "code",
   "execution_count": 6,
   "id": "5a3a4195",
   "metadata": {},
   "outputs": [
    {
     "name": "stdout",
     "output_type": "stream",
     "text": [
      "['한지민', 25, 78, 88, 95, 261, 87.0, 'B', 261, 87.0, 'B']\n"
     ]
    }
   ],
   "source": [
    "print(list_)"
   ]
  },
  {
   "cell_type": "code",
   "execution_count": 7,
   "id": "407b6f3b",
   "metadata": {},
   "outputs": [
    {
     "name": "stdout",
     "output_type": "stream",
     "text": [
      "Name : juyeong\n",
      "Korean : 95\n",
      "Ennglish : 100\n",
      "Math : 30\n",
      "['juyeong', 95, 100, 30]\n"
     ]
    }
   ],
   "source": [
    "student_ =[]\n",
    "name = input('Name : ')\n",
    "student_.append(name)\n",
    "kor = int(input('Korean : '))\n",
    "student_.append(kor)\n",
    "eng = int(input('Ennglish : '))\n",
    "student_.append(eng)\n",
    "math = int(input('Math : '))\n",
    "student_.append(math)\n",
    "print(student_)"
   ]
  },
  {
   "cell_type": "code",
   "execution_count": 9,
   "id": "a5ea9fdf",
   "metadata": {},
   "outputs": [
    {
     "name": "stdout",
     "output_type": "stream",
     "text": [
      "Name : 박지민\n",
      "Korean : 90\n",
      "English : 99\n",
      "Math : 100\n",
      "['박지민', 90, 99, 100]\n"
     ]
    }
   ],
   "source": [
    "student_ =[]\n",
    "name = input('Name : ')\n",
    "student_.append(name)\n",
    "kor = int(input('Korean : '))\n",
    "student_.append(kor)\n",
    "eng = int(input('English : '))\n",
    "student_.append(eng)\n",
    "math = int(input('Math : '))\n",
    "student_.append(math)\n",
    "print(student_)"
   ]
  },
  {
   "cell_type": "code",
   "execution_count": null,
   "id": "17a79882",
   "metadata": {},
   "outputs": [],
   "source": [
    "student_ = {'이름' : '한지민', '나이' : 25, '국어' : 77, '영어' : 88, '수학' : 99}\n",
    "tot = student_['국어'] + student_['영어'] + student_['수학']\n",
    "student['총점'] = tot"
   ]
  },
  {
   "cell_type": "code",
   "execution_count": null,
   "id": "77cf09d1",
   "metadata": {},
   "outputs": [],
   "source": [
    "second_ = int(input('초단위의 시간을 입력하시오. : '))\n",
    "hour = second_ // 3600\n",
    "rest = second_ % 3600\n",
    "minute = rest // 60\n",
    "second = rest % 60\n",
    "print('%d초는 %d시간 %d분 %d초 입니다.' %(second_, hour, minute, second))"
   ]
  },
  {
   "cell_type": "code",
   "execution_count": 30,
   "id": "9487196a",
   "metadata": {},
   "outputs": [
    {
     "name": "stdout",
     "output_type": "stream",
     "text": [
      "sum = 5050\n"
     ]
    }
   ],
   "source": [
    "sum = 0\n",
    "for num in range(1, 101) :\n",
    "    sum += num\n",
    "print('sum =', sum)"
   ]
  },
  {
   "cell_type": "code",
   "execution_count": 39,
   "id": "223b301c",
   "metadata": {},
   "outputs": [
    {
     "name": "stdout",
     "output_type": "stream",
     "text": [
      "456\n"
     ]
    }
   ],
   "source": [
    "\n",
    "for num in range (1, 50) :\n",
    "    if num % 3 == 0 :\n",
    "        sum += num\n",
    "print(sum)"
   ]
  },
  {
   "cell_type": "code",
   "execution_count": 43,
   "id": "a5c7a911",
   "metadata": {},
   "outputs": [],
   "source": [
    "def calcSum() :\n",
    "    sum = 0\n",
    "    for num in range(1, 101) :\n",
    "        sum += num\n",
    "        print('sum =', sum)"
   ]
  },
  {
   "cell_type": "code",
   "execution_count": 49,
   "id": "3dc4fee2",
   "metadata": {},
   "outputs": [],
   "source": [
    "def calcSum(last):\n",
    "    sum = 0\n",
    "    for num in range(1, last+1) :\n",
    "        sum += num\n",
    "    print('1부터', last, '까지의 합은', sum, '입니다.')"
   ]
  },
  {
   "cell_type": "code",
   "execution_count": 50,
   "id": "21a669ae",
   "metadata": {},
   "outputs": [
    {
     "name": "stdout",
     "output_type": "stream",
     "text": [
      "1부터 50 까지의 합은 1275 입니다.\n"
     ]
    }
   ],
   "source": [
    "calcSum(50)"
   ]
  },
  {
   "cell_type": "code",
   "execution_count": 53,
   "id": "fd308f8d",
   "metadata": {},
   "outputs": [],
   "source": [
    "def calcSum(start, last):\n",
    "    sum = 0\n",
    "    for num in range(start, last + 1) :\n",
    "        sum += num\n",
    "    print(start,'부터', last, '까지의 합은', sum, '입니다.')"
   ]
  },
  {
   "cell_type": "code",
   "execution_count": 54,
   "id": "13c69f5f",
   "metadata": {},
   "outputs": [
    {
     "name": "stdout",
     "output_type": "stream",
     "text": [
      "1 부터 10 까지의 합은 55 입니다.\n"
     ]
    }
   ],
   "source": [
    "calcSum(1, 10)"
   ]
  },
  {
   "cell_type": "code",
   "execution_count": 56,
   "id": "258665d0",
   "metadata": {},
   "outputs": [
    {
     "name": "stdout",
     "output_type": "stream",
     "text": [
      "A B C D E F G H I J K L M N O P Q R S T U V W X Y "
     ]
    }
   ],
   "source": [
    "for str in range(65, 90):\n",
    "    print(chr(str), end=' ')"
   ]
  },
  {
   "cell_type": "code",
   "execution_count": 57,
   "id": "e977c38c",
   "metadata": {},
   "outputs": [
    {
     "name": "stdout",
     "output_type": "stream",
     "text": [
      "A B C D E \n",
      "F G H I J \n",
      "K L M N O \n",
      "P Q R S T \n",
      "U V W X Y \n"
     ]
    }
   ],
   "source": [
    "count = 0\n",
    "for str in range(65, 90):\n",
    "    count = count +1\n",
    "    print(chr(str), end=' ')\n",
    "    if count % 5 ==0:\n",
    "        print()\n",
    "    "
   ]
  },
  {
   "cell_type": "code",
   "execution_count": 58,
   "id": "df04e51a",
   "metadata": {},
   "outputs": [],
   "source": [
    "def changme(other):\n",
    "    other = 100000\n",
    "    print('In function, other =', other)"
   ]
  },
  {
   "cell_type": "code",
   "execution_count": 62,
   "id": "69b7423f",
   "metadata": {},
   "outputs": [],
   "source": [
    "def changeme(other):\n",
    "    other = '박지민'\n",
    "    print('In function, other =', other)"
   ]
  },
  {
   "cell_type": "code",
   "execution_count": 63,
   "id": "d6fceebf",
   "metadata": {
    "scrolled": true
   },
   "outputs": [
    {
     "name": "stdout",
     "output_type": "stream",
     "text": [
      "In function, other = 박지민\n",
      "original = 한지민\n"
     ]
    }
   ],
   "source": [
    "original = '한지민'\n",
    "changeme(original)\n",
    "print('original =', original) # 수정을 막아둔 객체 = callby value"
   ]
  },
  {
   "cell_type": "code",
   "execution_count": 65,
   "id": "311f6e08",
   "metadata": {},
   "outputs": [],
   "source": [
    "def changeme(other):\n",
    "    other[2] = 'Straw Berry'\n",
    "    print('In function, other =', other)"
   ]
  },
  {
   "cell_type": "code",
   "execution_count": 66,
   "id": "421c8f86",
   "metadata": {},
   "outputs": [
    {
     "name": "stdout",
     "output_type": "stream",
     "text": [
      "In function, other = ['Apple', 'Mango', 'Straw Berry']\n",
      "original = ['Apple', 'Mango', 'Straw Berry']\n"
     ]
    }
   ],
   "source": [
    "original = ['Apple', 'Mango', 'Banana']\n",
    "changeme(original)\n",
    "print('original =', original) # 수정을 막아둔 객체 = callby value"
   ]
  },
  {
   "cell_type": "code",
   "execution_count": 5,
   "id": "a1d03905",
   "metadata": {},
   "outputs": [],
   "source": [
    "def input_student(student):\n",
    "    student['name'] = input('Name : ')                    #input\n",
    "    student['age'] = input('Age : ')"
   ]
  },
  {
   "cell_type": "code",
   "execution_count": 6,
   "id": "2492e201",
   "metadata": {},
   "outputs": [],
   "source": [
    "def output_student(student):\n",
    "    print('이름 = %s, 나이 = %s입니다.' % (student['name'], student['age']))                                                #output"
   ]
  },
  {
   "cell_type": "code",
   "execution_count": 69,
   "id": "a82eb389",
   "metadata": {},
   "outputs": [
    {
     "name": "stdout",
     "output_type": "stream",
     "text": [
      "__main__\n"
     ]
    }
   ],
   "source": [
    "print(__name__)"
   ]
  },
  {
   "cell_type": "code",
   "execution_count": 7,
   "id": "95efcbb2",
   "metadata": {},
   "outputs": [
    {
     "name": "stdout",
     "output_type": "stream",
     "text": [
      "Name : juyeong\n",
      "Age : 23\n",
      "이름 = juyeong, 나이 = 23입니다.\n"
     ]
    }
   ],
   "source": [
    "student_ = {}\n",
    "if __name__ == '__main__' :                                        #main\n",
    "    input_student(student_)   # 채우는 건 input에서 채우기\n",
    "    output_student(student_)"
   ]
  },
  {
   "cell_type": "code",
   "execution_count": 12,
   "id": "9adbaed1",
   "metadata": {},
   "outputs": [
    {
     "name": "stdout",
     "output_type": "stream",
     "text": [
      "Requirement already satisfied: nbconvert in /home/ubuntu/PythonHome/0221/lib/python3.10/site-packages (7.2.9)\n",
      "Requirement already satisfied: jupyter-core>=4.7 in /home/ubuntu/PythonHome/0221/lib/python3.10/site-packages (from nbconvert) (5.2.0)\n",
      "Requirement already satisfied: packaging in /home/ubuntu/PythonHome/0221/lib/python3.10/site-packages (from nbconvert) (23.0)\n",
      "Requirement already satisfied: traitlets>=5.0 in /home/ubuntu/PythonHome/0221/lib/python3.10/site-packages (from nbconvert) (5.9.0)\n",
      "Requirement already satisfied: nbformat>=5.1 in /home/ubuntu/PythonHome/0221/lib/python3.10/site-packages (from nbconvert) (5.7.3)\n",
      "Requirement already satisfied: mistune<3,>=2.0.3 in /home/ubuntu/PythonHome/0221/lib/python3.10/site-packages (from nbconvert) (2.0.5)\n",
      "Requirement already satisfied: tinycss2 in /home/ubuntu/PythonHome/0221/lib/python3.10/site-packages (from nbconvert) (1.2.1)\n",
      "Requirement already satisfied: jupyterlab-pygments in /home/ubuntu/PythonHome/0221/lib/python3.10/site-packages (from nbconvert) (0.2.2)\n",
      "Requirement already satisfied: beautifulsoup4 in /home/ubuntu/PythonHome/0221/lib/python3.10/site-packages (from nbconvert) (4.11.2)\n",
      "Requirement already satisfied: pandocfilters>=1.4.1 in /home/ubuntu/PythonHome/0221/lib/python3.10/site-packages (from nbconvert) (1.5.0)\n",
      "Requirement already satisfied: pygments>=2.4.1 in /home/ubuntu/PythonHome/0221/lib/python3.10/site-packages (from nbconvert) (2.14.0)\n",
      "Requirement already satisfied: defusedxml in /home/ubuntu/PythonHome/0221/lib/python3.10/site-packages (from nbconvert) (0.7.1)\n",
      "Requirement already satisfied: nbclient>=0.5.0 in /home/ubuntu/PythonHome/0221/lib/python3.10/site-packages (from nbconvert) (0.7.2)\n",
      "Requirement already satisfied: markupsafe>=2.0 in /home/ubuntu/PythonHome/0221/lib/python3.10/site-packages (from nbconvert) (2.1.2)\n",
      "Requirement already satisfied: bleach in /home/ubuntu/PythonHome/0221/lib/python3.10/site-packages (from nbconvert) (6.0.0)\n",
      "Requirement already satisfied: jinja2>=3.0 in /home/ubuntu/PythonHome/0221/lib/python3.10/site-packages (from nbconvert) (3.1.2)\n",
      "Requirement already satisfied: platformdirs>=2.5 in /home/ubuntu/PythonHome/0221/lib/python3.10/site-packages (from jupyter-core>=4.7->nbconvert) (3.0.0)\n",
      "Requirement already satisfied: jupyter-client>=6.1.12 in /home/ubuntu/PythonHome/0221/lib/python3.10/site-packages (from nbclient>=0.5.0->nbconvert) (8.0.3)\n",
      "Requirement already satisfied: jsonschema>=2.6 in /home/ubuntu/PythonHome/0221/lib/python3.10/site-packages (from nbformat>=5.1->nbconvert) (4.17.3)\n",
      "Requirement already satisfied: fastjsonschema in /home/ubuntu/PythonHome/0221/lib/python3.10/site-packages (from nbformat>=5.1->nbconvert) (2.16.2)\n",
      "Requirement already satisfied: soupsieve>1.2 in /home/ubuntu/PythonHome/0221/lib/python3.10/site-packages (from beautifulsoup4->nbconvert) (2.4)\n",
      "Requirement already satisfied: six>=1.9.0 in /home/ubuntu/PythonHome/0221/lib/python3.10/site-packages (from bleach->nbconvert) (1.16.0)\n",
      "Requirement already satisfied: webencodings in /home/ubuntu/PythonHome/0221/lib/python3.10/site-packages (from bleach->nbconvert) (0.5.1)\n",
      "Requirement already satisfied: attrs>=17.4.0 in /home/ubuntu/PythonHome/0221/lib/python3.10/site-packages (from jsonschema>=2.6->nbformat>=5.1->nbconvert) (22.2.0)\n",
      "Requirement already satisfied: pyrsistent!=0.17.0,!=0.17.1,!=0.17.2,>=0.14.0 in /home/ubuntu/PythonHome/0221/lib/python3.10/site-packages (from jsonschema>=2.6->nbformat>=5.1->nbconvert) (0.19.3)\n",
      "Requirement already satisfied: python-dateutil>=2.8.2 in /home/ubuntu/PythonHome/0221/lib/python3.10/site-packages (from jupyter-client>=6.1.12->nbclient>=0.5.0->nbconvert) (2.8.2)\n",
      "Requirement already satisfied: tornado>=6.2 in /home/ubuntu/PythonHome/0221/lib/python3.10/site-packages (from jupyter-client>=6.1.12->nbclient>=0.5.0->nbconvert) (6.2)\n",
      "Requirement already satisfied: pyzmq>=23.0 in /home/ubuntu/PythonHome/0221/lib/python3.10/site-packages (from jupyter-client>=6.1.12->nbclient>=0.5.0->nbconvert) (25.0.0)\n",
      "\n",
      "\u001b[1m[\u001b[0m\u001b[34;49mnotice\u001b[0m\u001b[1;39;49m]\u001b[0m\u001b[39;49m A new release of pip is available: \u001b[0m\u001b[31;49m23.0\u001b[0m\u001b[39;49m -> \u001b[0m\u001b[32;49m23.0.1\u001b[0m\n",
      "\u001b[1m[\u001b[0m\u001b[34;49mnotice\u001b[0m\u001b[1;39;49m]\u001b[0m\u001b[39;49m To update, run: \u001b[0m\u001b[32;49mpip install --upgrade pip\u001b[0m\n",
      "Note: you may need to restart the kernel to use updated packages.\n"
     ]
    }
   ],
   "source": [
    "pip install nbconvert"
   ]
  },
  {
   "cell_type": "code",
   "execution_count": 13,
   "id": "fe62c36d",
   "metadata": {},
   "outputs": [],
   "source": [
    "import nbconvert"
   ]
  },
  {
   "cell_type": "code",
   "execution_count": 15,
   "id": "f4c4a022",
   "metadata": {},
   "outputs": [
    {
     "ename": "ModuleNotFoundError",
     "evalue": "No module named 'util'",
     "output_type": "error",
     "traceback": [
      "\u001b[0;31m---------------------------------------------------------------------------\u001b[0m",
      "\u001b[0;31mModuleNotFoundError\u001b[0m                       Traceback (most recent call last)",
      "Cell \u001b[0;32mIn[15], line 1\u001b[0m\n\u001b[0;32m----> 1\u001b[0m \u001b[38;5;28;01mimport\u001b[39;00m \u001b[38;5;21;01mutil\u001b[39;00m\n",
      "\u001b[0;31mModuleNotFoundError\u001b[0m: No module named 'util'"
     ]
    }
   ],
   "source": [
    "import util"
   ]
  },
  {
   "cell_type": "code",
   "execution_count": 4,
   "id": "f2814015",
   "metadata": {},
   "outputs": [
    {
     "ename": "NameError",
     "evalue": "name 'util' is not defined",
     "output_type": "error",
     "traceback": [
      "\u001b[0;31m---------------------------------------------------------------------------\u001b[0m",
      "\u001b[0;31mNameError\u001b[0m                                 Traceback (most recent call last)",
      "Cell \u001b[0;32mIn[4], line 1\u001b[0m\n\u001b[0;32m----> 1\u001b[0m \u001b[38;5;28mprint\u001b[39m(\u001b[38;5;124m'\u001b[39m\u001b[38;5;124mINCH =\u001b[39m\u001b[38;5;124m'\u001b[39m, \u001b[43mutil\u001b[49m\u001b[38;5;241m.\u001b[39mINCH)\n",
      "\u001b[0;31mNameError\u001b[0m: name 'util' is not defined"
     ]
    }
   ],
   "source": [
    "print('INCH =', util.INCH)"
   ]
  }
 ],
 "metadata": {
  "kernelspec": {
   "display_name": "Python 3 (ipykernel)",
   "language": "python",
   "name": "python3"
  },
  "language_info": {
   "codemirror_mode": {
    "name": "ipython",
    "version": 3
   },
   "file_extension": ".py",
   "mimetype": "text/x-python",
   "name": "python",
   "nbconvert_exporter": "python",
   "pygments_lexer": "ipython3",
   "version": "3.10.6"
  }
 },
 "nbformat": 4,
 "nbformat_minor": 5
}
