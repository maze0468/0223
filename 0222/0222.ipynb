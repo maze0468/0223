{
 "cells": [
  {
   "cell_type": "code",
   "execution_count": 2,
   "id": "addc9c9c",
   "metadata": {},
   "outputs": [
    {
     "data": {
      "text/plain": [
       "['__add__',\n",
       " '__class__',\n",
       " '__class_getitem__',\n",
       " '__contains__',\n",
       " '__delattr__',\n",
       " '__delitem__',\n",
       " '__dir__',\n",
       " '__doc__',\n",
       " '__eq__',\n",
       " '__format__',\n",
       " '__ge__',\n",
       " '__getattribute__',\n",
       " '__getitem__',\n",
       " '__gt__',\n",
       " '__hash__',\n",
       " '__iadd__',\n",
       " '__imul__',\n",
       " '__init__',\n",
       " '__init_subclass__',\n",
       " '__iter__',\n",
       " '__le__',\n",
       " '__len__',\n",
       " '__lt__',\n",
       " '__mul__',\n",
       " '__ne__',\n",
       " '__new__',\n",
       " '__reduce__',\n",
       " '__reduce_ex__',\n",
       " '__repr__',\n",
       " '__reversed__',\n",
       " '__rmul__',\n",
       " '__setattr__',\n",
       " '__setitem__',\n",
       " '__sizeof__',\n",
       " '__str__',\n",
       " '__subclasshook__',\n",
       " 'append',\n",
       " 'clear',\n",
       " 'copy',\n",
       " 'count',\n",
       " 'extend',\n",
       " 'index',\n",
       " 'insert',\n",
       " 'pop',\n",
       " 'remove',\n",
       " 'reverse',\n",
       " 'sort']"
      ]
     },
     "execution_count": 2,
     "metadata": {},
     "output_type": "execute_result"
    }
   ],
   "source": [
    "list_ = ['한지민', 25, 78, 34]\n",
    "dir(list_)"
   ]
  },
  {
   "cell_type": "code",
   "execution_count": 3,
   "id": "3786883f",
   "metadata": {},
   "outputs": [
    {
     "data": {
      "text/plain": [
       "['__add__',\n",
       " '__class__',\n",
       " '__class_getitem__',\n",
       " '__contains__',\n",
       " '__delattr__',\n",
       " '__delitem__',\n",
       " '__dir__',\n",
       " '__doc__',\n",
       " '__eq__',\n",
       " '__format__',\n",
       " '__ge__',\n",
       " '__getattribute__',\n",
       " '__getitem__',\n",
       " '__gt__',\n",
       " '__hash__',\n",
       " '__iadd__',\n",
       " '__imul__',\n",
       " '__init__',\n",
       " '__init_subclass__',\n",
       " '__iter__',\n",
       " '__le__',\n",
       " '__len__',\n",
       " '__lt__',\n",
       " '__mul__',\n",
       " '__ne__',\n",
       " '__new__',\n",
       " '__reduce__',\n",
       " '__reduce_ex__',\n",
       " '__repr__',\n",
       " '__reversed__',\n",
       " '__rmul__',\n",
       " '__setattr__',\n",
       " '__setitem__',\n",
       " '__sizeof__',\n",
       " '__str__',\n",
       " '__subclasshook__',\n",
       " 'append',\n",
       " 'clear',\n",
       " 'copy',\n",
       " 'count',\n",
       " 'extend',\n",
       " 'index',\n",
       " 'insert',\n",
       " 'pop',\n",
       " 'remove',\n",
       " 'reverse',\n",
       " 'sort']"
      ]
     },
     "execution_count": 3,
     "metadata": {},
     "output_type": "execute_result"
    }
   ],
   "source": [
    "list_ = ['한지민', 25, 78, 88, 95]\n",
    "dir(list_)"
   ]
  },
  {
   "cell_type": "code",
   "execution_count": 5,
   "id": "b66b0c71",
   "metadata": {},
   "outputs": [],
   "source": [
    "tot = list_[2] + list_[3] + list_[4]\n",
    "avg = tot / 3.\n",
    "grade = None\n",
    "if 90 <= avg <= 100 : grade = 'A'\n",
    "elif 80 <= avg < 90 : grade = 'B'\n",
    "elif 70 <= avg < 80 : grade = 'C'\n",
    "elif 60 <= avg < 70 : grade = 'D'\n",
    "else : grade = 'F'\n",
    "list_.append(tot)\n",
    "list_.append(avg)\n",
    "list_.append(grade)"
   ]
  },
  {
   "cell_type": "code",
   "execution_count": 6,
   "id": "5a3a4195",
   "metadata": {},
   "outputs": [
    {
     "name": "stdout",
     "output_type": "stream",
     "text": [
      "['한지민', 25, 78, 88, 95, 261, 87.0, 'B', 261, 87.0, 'B']\n"
     ]
    }
   ],
   "source": [
    "print(list_)"
   ]
  },
  {
   "cell_type": "code",
   "execution_count": 7,
   "id": "407b6f3b",
   "metadata": {},
   "outputs": [
    {
     "name": "stdout",
     "output_type": "stream",
     "text": [
      "Name : juyeong\n",
      "Korean : 95\n",
      "Ennglish : 100\n",
      "Math : 30\n",
      "['juyeong', 95, 100, 30]\n"
     ]
    }
   ],
   "source": [
    "student_ =[]\n",
    "name = input('Name : ')\n",
    "student_.append(name)\n",
    "kor = int(input('Korean : '))\n",
    "student_.append(kor)\n",
    "eng = int(input('Ennglish : '))\n",
    "student_.append(eng)\n",
    "math = int(input('Math : '))\n",
    "student_.append(math)\n",
    "print(student_)"
   ]
  },
  {
   "cell_type": "code",
   "execution_count": 8,
   "id": "544fda98",
   "metadata": {},
   "outputs": [
    {
     "name": "stdout",
     "output_type": "stream",
     "text": [
      "Name : jk\n",
      "Korean : 90\n",
      "English : 85\n",
      "Math : 77\n",
      "['jk', 90, 85, 77]\n"
     ]
    }
   ],
   "source": [
    "student_ =[]\n",
    "name = input('Name : ')\n",
    "student_.append(name)\n",
    "kor = int(input('Korean : '))\n",
    "student_.append(kor)\n",
    "eng = int(input('English : '))\n",
    "student_.append(eng)\n",
    "math = int(input('Math : '))\n",
    "student_.append(math)\n",
    "print(student_)"
   ]
  },
  {
   "cell_type": "code",
   "execution_count": 9,
   "id": "a5ea9fdf",
   "metadata": {},
   "outputs": [
    {
     "name": "stdout",
     "output_type": "stream",
     "text": [
      "Name : 박지민\n",
      "Korean : 90\n",
      "English : 99\n",
      "Math : 100\n",
      "['박지민', 90, 99, 100]\n"
     ]
    }
   ],
   "source": [
    "student_ =[]\n",
    "name = input('Name : ')\n",
    "student_.append(name)\n",
    "kor = int(input('Korean : '))\n",
    "student_.append(kor)\n",
    "eng = int(input('English : '))\n",
    "student_.append(eng)\n",
    "math = int(input('Math : '))\n",
    "student_.append(math)\n",
    "print(student_)"
   ]
  },
  {
   "cell_type": "code",
   "execution_count": 10,
   "id": "dae3f391",
   "metadata": {},
   "outputs": [
    {
     "ename": "NameError",
     "evalue": "name 'tuple_' is not defined",
     "output_type": "error",
     "traceback": [
      "\u001b[0;31m---------------------------------------------------------------------------\u001b[0m",
      "\u001b[0;31mNameError\u001b[0m                                 Traceback (most recent call last)",
      "Cell \u001b[0;32mIn[10], line 1\u001b[0m\n\u001b[0;32m----> 1\u001b[0m \u001b[43mtuple_\u001b[49m[\u001b[38;5;241m1\u001b[39m] \u001b[38;5;241m=\u001b[39m \u001b[38;5;241m45\u001b[39m\n",
      "\u001b[0;31mNameError\u001b[0m: name 'tuple_' is not defined"
     ]
    }
   ],
   "source": [
    "tuple_[1] = 45"
   ]
  },
  {
   "cell_type": "code",
   "execution_count": null,
   "id": "17a79882",
   "metadata": {},
   "outputs": [],
   "source": [
    "student_ = {'이름' : '한지민', '나이' : 25, '국어' : 77, '영어' : 88, '수학' : 99}\n",
    "tot = student_['국어'] + student_['영어'] + student_['수학']\n",
    "student['총점'] = tot"
   ]
  },
  {
   "cell_type": "code",
   "execution_count": null,
   "id": "cfe979da",
   "metadata": {},
   "outputs": [],
   "source": [
    "second_ = int(input('초단위의 시간을 입력하시오. : '))\n",
    "hour = second_ // 3600\n",
    "rest = second_ % 3600\n",
    "minute = rest // 60\n",
    "second = minute % 60\n",
    "print('%d초는 %d시간 %d분 %d초 입니다.' % (second_, hour, minute, second))"
   ]
  },
  {
   "cell_type": "code",
   "execution_count": null,
   "id": "77cf09d1",
   "metadata": {},
   "outputs": [],
   "source": [
    "second_ = int(input('초단위의 시간을 입력하시오. : '))\n",
    "hour = second_ // 3600\n",
    "rest = second_ % 3600\n",
    "minute = rest // 60\n",
    "second = rest % 60\n",
    "print('%d초는 %d시간 %d분 %d초 입니다.' %(second_, hour, minute, second))"
   ]
  },
  {
   "cell_type": "code",
   "execution_count": 30,
   "id": "9487196a",
   "metadata": {},
   "outputs": [
    {
     "name": "stdout",
     "output_type": "stream",
     "text": [
      "sum = 5050\n"
     ]
    }
   ],
   "source": [
    "sum = 0\n",
    "for num in range(1, 101) :\n",
    "    sum += num\n",
    "print('sum =', sum)"
   ]
  },
  {
   "cell_type": "code",
   "execution_count": 39,
   "id": "223b301c",
   "metadata": {},
   "outputs": [
    {
     "name": "stdout",
     "output_type": "stream",
     "text": [
      "456\n"
     ]
    }
   ],
   "source": [
    "\n",
    "for num in range (1, 50) :\n",
    "    if num % 3 == 0 :\n",
    "        sum += num\n",
    "print(sum)"
   ]
  },
  {
   "cell_type": "code",
   "execution_count": 43,
   "id": "a5c7a911",
   "metadata": {},
   "outputs": [],
   "source": [
    "def calcSum() :\n",
    "    sum = 0\n",
    "    for num in range(1, 101) :\n",
    "        sum += num\n",
    "        print('sum =', sum)"
   ]
  },
  {
   "cell_type": "code",
   "execution_count": 42,
   "id": "045def09",
   "metadata": {},
   "outputs": [
    {
     "name": "stdout",
     "output_type": "stream",
     "text": [
      "sum = 1\n",
      "sum = 3\n",
      "sum = 6\n",
      "sum = 10\n",
      "sum = 15\n",
      "sum = 21\n",
      "sum = 28\n",
      "sum = 36\n",
      "sum = 45\n",
      "sum = 55\n",
      "sum = 66\n",
      "sum = 78\n",
      "sum = 91\n",
      "sum = 105\n",
      "sum = 120\n",
      "sum = 136\n",
      "sum = 153\n",
      "sum = 171\n",
      "sum = 190\n",
      "sum = 210\n",
      "sum = 231\n",
      "sum = 253\n",
      "sum = 276\n",
      "sum = 300\n",
      "sum = 325\n",
      "sum = 351\n",
      "sum = 378\n",
      "sum = 406\n",
      "sum = 435\n",
      "sum = 465\n",
      "sum = 496\n",
      "sum = 528\n",
      "sum = 561\n",
      "sum = 595\n",
      "sum = 630\n",
      "sum = 666\n",
      "sum = 703\n",
      "sum = 741\n",
      "sum = 780\n",
      "sum = 820\n",
      "sum = 861\n",
      "sum = 903\n",
      "sum = 946\n",
      "sum = 990\n",
      "sum = 1035\n",
      "sum = 1081\n",
      "sum = 1128\n",
      "sum = 1176\n",
      "sum = 1225\n",
      "sum = 1275\n",
      "sum = 1326\n",
      "sum = 1378\n",
      "sum = 1431\n",
      "sum = 1485\n",
      "sum = 1540\n",
      "sum = 1596\n",
      "sum = 1653\n",
      "sum = 1711\n",
      "sum = 1770\n",
      "sum = 1830\n",
      "sum = 1891\n",
      "sum = 1953\n",
      "sum = 2016\n",
      "sum = 2080\n",
      "sum = 2145\n",
      "sum = 2211\n",
      "sum = 2278\n",
      "sum = 2346\n",
      "sum = 2415\n",
      "sum = 2485\n",
      "sum = 2556\n",
      "sum = 2628\n",
      "sum = 2701\n",
      "sum = 2775\n",
      "sum = 2850\n",
      "sum = 2926\n",
      "sum = 3003\n",
      "sum = 3081\n",
      "sum = 3160\n",
      "sum = 3240\n",
      "sum = 3321\n",
      "sum = 3403\n",
      "sum = 3486\n",
      "sum = 3570\n",
      "sum = 3655\n",
      "sum = 3741\n",
      "sum = 3828\n",
      "sum = 3916\n",
      "sum = 4005\n",
      "sum = 4095\n",
      "sum = 4186\n",
      "sum = 4278\n",
      "sum = 4371\n",
      "sum = 4465\n",
      "sum = 4560\n",
      "sum = 4656\n",
      "sum = 4753\n",
      "sum = 4851\n",
      "sum = 4950\n",
      "sum = 5050\n"
     ]
    }
   ],
   "source": [
    "calcSum()"
   ]
  },
  {
   "cell_type": "code",
   "execution_count": 49,
   "id": "3dc4fee2",
   "metadata": {},
   "outputs": [],
   "source": [
    "def calcSum(last):\n",
    "    sum = 0\n",
    "    for num in range(1, last+1) :\n",
    "        sum += num\n",
    "    print('1부터', last, '까지의 합은', sum, '입니다.')"
   ]
  },
  {
   "cell_type": "code",
   "execution_count": 50,
   "id": "21a669ae",
   "metadata": {},
   "outputs": [
    {
     "name": "stdout",
     "output_type": "stream",
     "text": [
      "1부터 50 까지의 합은 1275 입니다.\n"
     ]
    }
   ],
   "source": [
    "calcSum(50)"
   ]
  },
  {
   "cell_type": "code",
   "execution_count": 48,
   "id": "13f32e68",
   "metadata": {},
   "outputs": [
    {
     "name": "stdout",
     "output_type": "stream",
     "text": [
      "1부터 50 까지의 합은 1 입니다.\n",
      "1부터 50 까지의 합은 3 입니다.\n",
      "1부터 50 까지의 합은 6 입니다.\n",
      "1부터 50 까지의 합은 10 입니다.\n",
      "1부터 50 까지의 합은 15 입니다.\n",
      "1부터 50 까지의 합은 21 입니다.\n",
      "1부터 50 까지의 합은 28 입니다.\n",
      "1부터 50 까지의 합은 36 입니다.\n",
      "1부터 50 까지의 합은 45 입니다.\n",
      "1부터 50 까지의 합은 55 입니다.\n",
      "1부터 50 까지의 합은 66 입니다.\n",
      "1부터 50 까지의 합은 78 입니다.\n",
      "1부터 50 까지의 합은 91 입니다.\n",
      "1부터 50 까지의 합은 105 입니다.\n",
      "1부터 50 까지의 합은 120 입니다.\n",
      "1부터 50 까지의 합은 136 입니다.\n",
      "1부터 50 까지의 합은 153 입니다.\n",
      "1부터 50 까지의 합은 171 입니다.\n",
      "1부터 50 까지의 합은 190 입니다.\n",
      "1부터 50 까지의 합은 210 입니다.\n",
      "1부터 50 까지의 합은 231 입니다.\n",
      "1부터 50 까지의 합은 253 입니다.\n",
      "1부터 50 까지의 합은 276 입니다.\n",
      "1부터 50 까지의 합은 300 입니다.\n",
      "1부터 50 까지의 합은 325 입니다.\n",
      "1부터 50 까지의 합은 351 입니다.\n",
      "1부터 50 까지의 합은 378 입니다.\n",
      "1부터 50 까지의 합은 406 입니다.\n",
      "1부터 50 까지의 합은 435 입니다.\n",
      "1부터 50 까지의 합은 465 입니다.\n",
      "1부터 50 까지의 합은 496 입니다.\n",
      "1부터 50 까지의 합은 528 입니다.\n",
      "1부터 50 까지의 합은 561 입니다.\n",
      "1부터 50 까지의 합은 595 입니다.\n",
      "1부터 50 까지의 합은 630 입니다.\n",
      "1부터 50 까지의 합은 666 입니다.\n",
      "1부터 50 까지의 합은 703 입니다.\n",
      "1부터 50 까지의 합은 741 입니다.\n",
      "1부터 50 까지의 합은 780 입니다.\n",
      "1부터 50 까지의 합은 820 입니다.\n",
      "1부터 50 까지의 합은 861 입니다.\n",
      "1부터 50 까지의 합은 903 입니다.\n",
      "1부터 50 까지의 합은 946 입니다.\n",
      "1부터 50 까지의 합은 990 입니다.\n",
      "1부터 50 까지의 합은 1035 입니다.\n",
      "1부터 50 까지의 합은 1081 입니다.\n",
      "1부터 50 까지의 합은 1128 입니다.\n",
      "1부터 50 까지의 합은 1176 입니다.\n",
      "1부터 50 까지의 합은 1225 입니다.\n",
      "1부터 50 까지의 합은 1275 입니다.\n"
     ]
    }
   ],
   "source": [
    "calcSum(50)"
   ]
  },
  {
   "cell_type": "code",
   "execution_count": 51,
   "id": "651dc3e7",
   "metadata": {},
   "outputs": [
    {
     "ename": "TypeError",
     "evalue": "calcSum() takes 1 positional argument but 2 were given",
     "output_type": "error",
     "traceback": [
      "\u001b[0;31m---------------------------------------------------------------------------\u001b[0m",
      "\u001b[0;31mTypeError\u001b[0m                                 Traceback (most recent call last)",
      "Cell \u001b[0;32mIn[51], line 1\u001b[0m\n\u001b[0;32m----> 1\u001b[0m \u001b[43mcalcSum\u001b[49m\u001b[43m(\u001b[49m\u001b[38;5;241;43m1\u001b[39;49m\u001b[43m,\u001b[49m\u001b[43m \u001b[49m\u001b[38;5;241;43m10\u001b[39;49m\u001b[43m)\u001b[49m\n",
      "\u001b[0;31mTypeError\u001b[0m: calcSum() takes 1 positional argument but 2 were given"
     ]
    }
   ],
   "source": [
    "calcSum(1, 10)"
   ]
  },
  {
   "cell_type": "code",
   "execution_count": 53,
   "id": "fd308f8d",
   "metadata": {},
   "outputs": [],
   "source": [
    "def calcSum(start, last):\n",
    "    sum = 0\n",
    "    for num in range(start, last + 1) :\n",
    "        sum += num\n",
    "    print(start,'부터', last, '까지의 합은', sum, '입니다.')"
   ]
  },
  {
   "cell_type": "code",
   "execution_count": 54,
   "id": "13c69f5f",
   "metadata": {},
   "outputs": [
    {
     "name": "stdout",
     "output_type": "stream",
     "text": [
      "1 부터 10 까지의 합은 55 입니다.\n"
     ]
    }
   ],
   "source": [
    "calcSum(1, 10)"
   ]
  },
  {
   "cell_type": "code",
   "execution_count": 56,
   "id": "258665d0",
   "metadata": {},
   "outputs": [
    {
     "name": "stdout",
     "output_type": "stream",
     "text": [
      "A B C D E F G H I J K L M N O P Q R S T U V W X Y "
     ]
    }
   ],
   "source": [
    "for str in range(65, 90):\n",
    "    print(chr(str), end=' ')"
   ]
  },
  {
   "cell_type": "code",
   "execution_count": 57,
   "id": "e977c38c",
   "metadata": {},
   "outputs": [
    {
     "name": "stdout",
     "output_type": "stream",
     "text": [
      "A B C D E \n",
      "F G H I J \n",
      "K L M N O \n",
      "P Q R S T \n",
      "U V W X Y \n"
     ]
    }
   ],
   "source": [
    "count = 0\n",
    "for str in range(65, 90):\n",
    "    count = count +1\n",
    "    print(chr(str), end=' ')\n",
    "    if count % 5 ==0:\n",
    "        print()\n",
    "    "
   ]
  },
  {
   "cell_type": "code",
   "execution_count": 58,
   "id": "df04e51a",
   "metadata": {},
   "outputs": [],
   "source": [
    "def changme(other):\n",
    "    other = 100000\n",
    "    print('In function, other =', other)"
   ]
  },
  {
   "cell_type": "code",
   "execution_count": 59,
   "id": "158051a1",
   "metadata": {
    "scrolled": true
   },
   "outputs": [
    {
     "ename": "NameError",
     "evalue": "name 'changeme' is not defined",
     "output_type": "error",
     "traceback": [
      "\u001b[0;31m---------------------------------------------------------------------------\u001b[0m",
      "\u001b[0;31mNameError\u001b[0m                                 Traceback (most recent call last)",
      "Cell \u001b[0;32mIn[59], line 2\u001b[0m\n\u001b[1;32m      1\u001b[0m original \u001b[38;5;241m=\u001b[39m \u001b[38;5;241m10\u001b[39m\n\u001b[0;32m----> 2\u001b[0m \u001b[43mchangeme\u001b[49m(original)\n\u001b[1;32m      3\u001b[0m \u001b[38;5;28mprint\u001b[39m(\u001b[38;5;124m'\u001b[39m\u001b[38;5;124moriginal =\u001b[39m\u001b[38;5;124m'\u001b[39m, original)\n",
      "\u001b[0;31mNameError\u001b[0m: name 'changeme' is not defined"
     ]
    }
   ],
   "source": [
    "original = 10\n",
    "changeme(original)\n",
    "print('original =', original)"
   ]
  },
  {
   "cell_type": "code",
   "execution_count": 62,
   "id": "69b7423f",
   "metadata": {},
   "outputs": [],
   "source": [
    "def changeme(other):\n",
    "    other = '박지민'\n",
    "    print('In function, other =', other)"
   ]
  },
  {
   "cell_type": "code",
   "execution_count": 63,
   "id": "d6fceebf",
   "metadata": {
    "scrolled": true
   },
   "outputs": [
    {
     "name": "stdout",
     "output_type": "stream",
     "text": [
      "In function, other = 박지민\n",
      "original = 한지민\n"
     ]
    }
   ],
   "source": [
    "original = '한지민'\n",
    "changeme(original)\n",
    "print('original =', original) # 수정을 막아둔 객체 = callby value"
   ]
  },
  {
   "cell_type": "code",
   "execution_count": 65,
   "id": "311f6e08",
   "metadata": {},
   "outputs": [],
   "source": [
    "def changeme(other):\n",
    "    other[2] = 'Straw Berry'\n",
    "    print('In function, other =', other)"
   ]
  },
  {
   "cell_type": "code",
   "execution_count": 66,
   "id": "421c8f86",
   "metadata": {},
   "outputs": [
    {
     "name": "stdout",
     "output_type": "stream",
     "text": [
      "In function, other = ['Apple', 'Mango', 'Straw Berry']\n",
      "original = ['Apple', 'Mango', 'Straw Berry']\n"
     ]
    }
   ],
   "source": [
    "original = ['Apple', 'Mango', 'Banana']\n",
    "changeme(original)\n",
    "print('original =', original) # 수정을 막아둔 객체 = callby value"
   ]
  },
  {
   "cell_type": "code",
   "execution_count": 1,
   "id": "a1d03905",
   "metadata": {},
   "outputs": [],
   "source": [
    "def input_student(student):\n",
    "    student['name'] = input('Name : ')                    #input\n",
    "    student['age'] = input('Age : ')"
   ]
  },
  {
   "cell_type": "code",
   "execution_count": 4,
   "id": "2492e201",
   "metadata": {},
   "outputs": [],
   "source": [
    "def output_student(student):\n",
    "    print('이름 = %s, 나이 = %s입니다.' % (student['name'], student['age']))                                                #output"
   ]
  },
  {
   "cell_type": "code",
   "execution_count": 69,
   "id": "a82eb389",
   "metadata": {},
   "outputs": [
    {
     "name": "stdout",
     "output_type": "stream",
     "text": [
      "__main__\n"
     ]
    }
   ],
   "source": [
    "print(__name__)"
   ]
  },
  {
   "cell_type": "code",
   "execution_count": 5,
   "id": "95efcbb2",
   "metadata": {},
   "outputs": [
    {
     "name": "stdout",
     "output_type": "stream",
     "text": [
      "Name : juyeong\n",
      "Age : 23\n",
      "이름 = juyeong, 나이 = 23입니다.\n"
     ]
    }
   ],
   "source": [
    "student_ = {}\n",
    "if __name__ == '__main__' :                                        #main\n",
    "    input_student(student_)   # 채우는 건 input에서 채우기\n",
    "    output_student(student_)"
   ]
  },
  {
   "cell_type": "code",
   "execution_count": null,
   "id": "9adbaed1",
   "metadata": {},
   "outputs": [],
   "source": []
  },
  {
   "cell_type": "code",
   "execution_count": null,
   "id": "8b2a9389",
   "metadata": {},
   "outputs": [],
   "source": []
  }
 ],
 "metadata": {
  "kernelspec": {
   "display_name": "Python 3 (ipykernel)",
   "language": "python",
   "name": "python3"
  },
  "language_info": {
   "codemirror_mode": {
    "name": "ipython",
    "version": 3
   },
   "file_extension": ".py",
   "mimetype": "text/x-python",
   "name": "python",
   "nbconvert_exporter": "python",
   "pygments_lexer": "ipython3",
   "version": "3.10.6"
  }
 },
 "nbformat": 4,
 "nbformat_minor": 5
}
